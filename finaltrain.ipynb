{
 "cells": [
  {
   "cell_type": "code",
   "execution_count": 1,
   "id": "037bec20",
   "metadata": {},
   "outputs": [
    {
     "name": "stderr",
     "output_type": "stream",
     "text": [
      "/home/ali/anaconda3/lib/python3.9/site-packages/scipy/__init__.py:146: UserWarning: A NumPy version >=1.16.5 and <1.23.0 is required for this version of SciPy (detected version 1.24.1\n",
      "  warnings.warn(f\"A NumPy version >={np_minversion} and <{np_maxversion}\"\n"
     ]
    }
   ],
   "source": [
    "from sklearn.preprocessing import LabelEncoder, MinMaxScaler\n",
    "import numpy as np\n",
    "import pandas as pd\n",
    "import cv2\n",
    "import os\n",
    "import h5py\n",
    "import pickle"
   ]
  },
  {
   "cell_type": "code",
   "execution_count": 2,
   "id": "7482580e",
   "metadata": {},
   "outputs": [],
   "source": [
    "from  sklearn.model_selection import train_test_split\n",
    "from sklearn.neighbors import KNeighborsClassifier\n",
    "from sklearn.svm import SVC\n",
    "from sklearn.tree import DecisionTreeClassifier\n",
    "from sklearn.neighbors import KNeighborsClassifier\n",
    "from sklearn.ensemble import RandomForestClassifier,AdaBoostClassifier,GradientBoostingClassifier\n",
    "from catboost import CatBoostClassifier\n",
    "from  xgboost import XGBClassifier\n",
    "\n",
    "from sklearn.metrics import (classification_report,accuracy_score,confusion_matrix,\n",
    "                             precision_score, recall_score, f1_score)"
   ]
  },
  {
   "cell_type": "code",
   "execution_count": 3,
   "id": "de1e2d22",
   "metadata": {},
   "outputs": [],
   "source": [
    "X = np.array(h5py.File(os.path.join('data','X.h5'),'r')['features'])\n",
    "y = np.array(h5py.File(os.path.join('data','y.h5'),'r')['targets'])"
   ]
  },
  {
   "cell_type": "code",
   "execution_count": 4,
   "id": "4782f38f",
   "metadata": {},
   "outputs": [
    {
     "data": {
      "text/plain": [
       "(1360, 1019)"
      ]
     },
     "execution_count": 4,
     "metadata": {},
     "output_type": "execute_result"
    }
   ],
   "source": [
    "np.shape(X)"
   ]
  },
  {
   "cell_type": "code",
   "execution_count": 5,
   "id": "8fc135c2",
   "metadata": {},
   "outputs": [
    {
     "data": {
      "text/plain": [
       "array([[3.13705759e-01, 5.55847071e-02, 0.00000000e+00, ...,\n",
       "        5.79671025e-01, 5.81509021e-01, 5.83351017e-01],\n",
       "       [4.13660545e-01, 2.76928505e-02, 4.24824605e-05, ...,\n",
       "        1.00000000e+00, 1.00000000e+00, 1.00000000e+00],\n",
       "       [8.07397387e-01, 1.49239223e-01, 0.00000000e+00, ...,\n",
       "        1.00000000e+00, 1.00000000e+00, 1.00000000e+00],\n",
       "       ...,\n",
       "       [2.63134608e-01, 1.06193822e-01, 1.27563254e-01, ...,\n",
       "        9.56468847e-02, 9.57946124e-02, 9.59451801e-02],\n",
       "       [5.84949132e-04, 1.38654032e-03, 4.32320717e-02, ...,\n",
       "        1.00000000e+00, 1.00000000e+00, 1.00000000e+00],\n",
       "       [9.12752606e-05, 7.32482080e-03, 2.96973376e-03, ...,\n",
       "        1.00000000e+00, 1.00000000e+00, 1.00000000e+00]])"
      ]
     },
     "execution_count": 5,
     "metadata": {},
     "output_type": "execute_result"
    }
   ],
   "source": [
    "X"
   ]
  },
  {
   "cell_type": "code",
   "execution_count": 34,
   "id": "7b926c46",
   "metadata": {},
   "outputs": [],
   "source": [
    "X_train, X_test, y_train ,y_test = train_test_split(X,y,test_size = 0.2,random_state=100)"
   ]
  },
  {
   "cell_type": "code",
   "execution_count": 35,
   "id": "2e7551a8",
   "metadata": {},
   "outputs": [],
   "source": [
    "# dtc = DecisionTreeClassifier()\n",
    "knnc = KNeighborsClassifier(n_neighbors=15,n_jobs=-1)\n",
    "rfc = RandomForestClassifier(n_jobs=-1,n_estimators=60000,\n",
    "                             max_depth=16,min_samples_split= 2)\n",
    "# abc = AdaBoostClassifier(learning_rate=.85,n_estimators=3000,)\n",
    "cbc = CatBoostClassifier(iterations=2000, learning_rate=.1,depth=16,verbose=100)\n",
    "gbc = GradientBoostingClassifier(learning_rate= 0.8, max_depth= 15, max_features= 8, min_samples_split= 8)\n",
    "# xg_reg  =XGBClassifier(max_depth=15,min_child_weight= 1,gamma= 0.5, learning_rate= 0.2,n_jobs=-1)\n",
    "# class_list=[svc,dtc,knnc,rfc,abc,gbc,xg_reg]\n",
    "class_list=[rfc]"
   ]
  },
  {
   "cell_type": "code",
   "execution_count": 36,
   "id": "566e3c06",
   "metadata": {},
   "outputs": [
    {
     "name": "stdout",
     "output_type": "stream",
     "text": [
      "Fitting 1 done\n",
      "CPU times: user 25min 43s, sys: 47.7 s, total: 26min 31s\n",
      "Wall time: 5min 20s\n"
     ]
    }
   ],
   "source": [
    "%%time\n",
    "\n",
    "counter=1\n",
    "for reg in class_list:\n",
    "    reg.fit(X_train,y_train)\n",
    "    print(f\"Fitting {counter} done\")\n",
    "    counter+=1"
   ]
  },
  {
   "cell_type": "code",
   "execution_count": 37,
   "id": "6dd29ad6",
   "metadata": {},
   "outputs": [
    {
     "name": "stdout",
     "output_type": "stream",
     "text": [
      "--------------------------------------------------\n",
      "RandomForestClassifier\n",
      "accuracy score : 0.6433823529411765\n",
      "classification report :               precision    recall  f1-score   support\n",
      "\n",
      "           0       0.56      0.75      0.64        12\n",
      "           1       0.58      0.41      0.48        17\n",
      "           2       0.56      0.74      0.64        19\n",
      "           3       0.78      0.74      0.76        19\n",
      "           4       0.56      0.74      0.64        19\n",
      "           5       0.50      0.38      0.43        13\n",
      "           6       0.83      0.91      0.87        22\n",
      "           7       0.67      0.56      0.61        18\n",
      "           8       1.00      0.33      0.50        21\n",
      "           9       0.70      1.00      0.82         7\n",
      "          10       0.62      0.53      0.57        19\n",
      "          11       0.62      0.42      0.50        19\n",
      "          12       0.61      0.85      0.71        13\n",
      "          13       0.81      0.93      0.87        14\n",
      "          14       0.42      0.56      0.48         9\n",
      "          15       0.52      0.67      0.59        18\n",
      "          16       0.75      0.69      0.72        13\n",
      "\n",
      "    accuracy                           0.64       272\n",
      "   macro avg       0.65      0.66      0.64       272\n",
      "weighted avg       0.67      0.64      0.63       272\n",
      "\n",
      "CPU times: user 1min 14s, sys: 1min 2s, total: 2min 17s\n",
      "Wall time: 1min 38s\n"
     ]
    }
   ],
   "source": [
    "%%time\n",
    "score_dict={}\n",
    "\n",
    "for reg in class_list:\n",
    "    \n",
    "    reg_name = reg.__class__.__name__\n",
    "    \n",
    "    pred=reg.predict(X_test)\n",
    "    \n",
    "    print(\"-\"*50)\n",
    "    \n",
    "    print(reg_name)\n",
    "  \n",
    "    print(f\"accuracy score : {accuracy_score(y_test,pred)}\")\n",
    "    print(f\"classification report : {classification_report(y_test,pred)}\")\n",
    "\n",
    "\n",
    "    score_dict[reg_name]={\n",
    "        \"accuracy score\":accuracy_score(y_test,pred),\n",
    "        \"classification report\" :classification_report(y_test,pred),\n",
    "\n",
    "    }"
   ]
  },
  {
   "cell_type": "code",
   "execution_count": 24,
   "id": "2e33f112",
   "metadata": {},
   "outputs": [
    {
     "data": {
      "text/html": [
       "<div>\n",
       "<style scoped>\n",
       "    .dataframe tbody tr th:only-of-type {\n",
       "        vertical-align: middle;\n",
       "    }\n",
       "\n",
       "    .dataframe tbody tr th {\n",
       "        vertical-align: top;\n",
       "    }\n",
       "\n",
       "    .dataframe thead th {\n",
       "        text-align: right;\n",
       "    }\n",
       "</style>\n",
       "<table border=\"1\" class=\"dataframe\">\n",
       "  <thead>\n",
       "    <tr style=\"text-align: right;\">\n",
       "      <th></th>\n",
       "      <th>accuracy score</th>\n",
       "      <th>classification report</th>\n",
       "    </tr>\n",
       "  </thead>\n",
       "  <tbody>\n",
       "    <tr>\n",
       "      <th>RandomForestClassifier</th>\n",
       "      <td>0.639706</td>\n",
       "      <td>precision    recall  f1-score   ...</td>\n",
       "    </tr>\n",
       "    <tr>\n",
       "      <th>KNeighborsClassifier</th>\n",
       "      <td>0.194853</td>\n",
       "      <td>precision    recall  f1-score   ...</td>\n",
       "    </tr>\n",
       "    <tr>\n",
       "      <th>GradientBoostingClassifier</th>\n",
       "      <td>0.088235</td>\n",
       "      <td>precision    recall  f1-score   ...</td>\n",
       "    </tr>\n",
       "  </tbody>\n",
       "</table>\n",
       "</div>"
      ],
      "text/plain": [
       "                           accuracy score  \\\n",
       "RandomForestClassifier           0.639706   \n",
       "KNeighborsClassifier             0.194853   \n",
       "GradientBoostingClassifier       0.088235   \n",
       "\n",
       "                                                        classification report  \n",
       "RandomForestClassifier                    precision    recall  f1-score   ...  \n",
       "KNeighborsClassifier                      precision    recall  f1-score   ...  \n",
       "GradientBoostingClassifier                precision    recall  f1-score   ...  "
      ]
     },
     "execution_count": 24,
     "metadata": {},
     "output_type": "execute_result"
    }
   ],
   "source": [
    "score_pd=pd.DataFrame(score_dict).transpose().sort_values(\"accuracy score\" ,ascending=False)\n",
    "score_pd"
   ]
  },
  {
   "cell_type": "code",
   "execution_count": 10,
   "id": "d5af9014",
   "metadata": {},
   "outputs": [
    {
     "data": {
      "text/html": [
       "<div>\n",
       "<style scoped>\n",
       "    .dataframe tbody tr th:only-of-type {\n",
       "        vertical-align: middle;\n",
       "    }\n",
       "\n",
       "    .dataframe tbody tr th {\n",
       "        vertical-align: top;\n",
       "    }\n",
       "\n",
       "    .dataframe thead th {\n",
       "        text-align: right;\n",
       "    }\n",
       "</style>\n",
       "<table border=\"1\" class=\"dataframe\">\n",
       "  <thead>\n",
       "    <tr style=\"text-align: right;\">\n",
       "      <th></th>\n",
       "      <th>accuracy score</th>\n",
       "      <th>classification report</th>\n",
       "    </tr>\n",
       "  </thead>\n",
       "  <tbody>\n",
       "    <tr>\n",
       "      <th>RandomForestClassifier</th>\n",
       "      <td>0.628676</td>\n",
       "      <td>precision    recall  f1-score   ...</td>\n",
       "    </tr>\n",
       "    <tr>\n",
       "      <th>KNeighborsClassifier</th>\n",
       "      <td>0.283088</td>\n",
       "      <td>precision    recall  f1-score   ...</td>\n",
       "    </tr>\n",
       "    <tr>\n",
       "      <th>GradientBoostingClassifier</th>\n",
       "      <td>0.121324</td>\n",
       "      <td>precision    recall  f1-score   ...</td>\n",
       "    </tr>\n",
       "  </tbody>\n",
       "</table>\n",
       "</div>"
      ],
      "text/plain": [
       "                           accuracy score  \\\n",
       "RandomForestClassifier           0.628676   \n",
       "KNeighborsClassifier             0.283088   \n",
       "GradientBoostingClassifier       0.121324   \n",
       "\n",
       "                                                        classification report  \n",
       "RandomForestClassifier                    precision    recall  f1-score   ...  \n",
       "KNeighborsClassifier                      precision    recall  f1-score   ...  \n",
       "GradientBoostingClassifier                precision    recall  f1-score   ...  "
      ]
     },
     "execution_count": 10,
     "metadata": {},
     "output_type": "execute_result"
    }
   ],
   "source": [
    "score_pd=pd.DataFrame(score_dict).transpose().sort_values(\"accuracy score\" ,ascending=False)\n",
    "score_pd"
   ]
  },
  {
   "cell_type": "code",
   "execution_count": 12,
   "id": "5e5a33ba",
   "metadata": {},
   "outputs": [],
   "source": [
    "# rf = RandomForestClassifier(n_estimators=400)\n",
    "# svc = SVC()"
   ]
  },
  {
   "cell_type": "code",
   "execution_count": 13,
   "id": "174653cd",
   "metadata": {},
   "outputs": [],
   "source": [
    "# rf.fit(X_train,y_train)\n",
    "# svc.fit(X_train,y_train)"
   ]
  },
  {
   "cell_type": "code",
   "execution_count": 14,
   "id": "135a5b21",
   "metadata": {},
   "outputs": [],
   "source": [
    "# y_pred_rf = rf.predict(X_test)\n",
    "# # y_pred_svc = svc.predict(X_test)"
   ]
  },
  {
   "cell_type": "code",
   "execution_count": 15,
   "id": "7212d51c",
   "metadata": {},
   "outputs": [],
   "source": [
    "# print(classification_report(y_pred=y_pred_rf, y_true= y_test))"
   ]
  },
  {
   "cell_type": "code",
   "execution_count": 16,
   "id": "d82bc459",
   "metadata": {},
   "outputs": [],
   "source": [
    "# print(classification_report(y_pred=y_pred_svc, y_true= y_test))"
   ]
  },
  {
   "cell_type": "code",
   "execution_count": 17,
   "id": "68c8c8ce",
   "metadata": {},
   "outputs": [],
   "source": [
    "# model = CatBoostClassifier(iterations=200, learning_rate=0.05, depth=10,verbose=20)\n"
   ]
  },
  {
   "cell_type": "code",
   "execution_count": 18,
   "id": "cbb62b09",
   "metadata": {},
   "outputs": [],
   "source": [
    "# model.fit(X_train,y_train)"
   ]
  },
  {
   "cell_type": "code",
   "execution_count": 19,
   "id": "1a62cde0",
   "metadata": {},
   "outputs": [],
   "source": [
    "# y_pred = model.predict(X_test)"
   ]
  },
  {
   "cell_type": "code",
   "execution_count": 20,
   "id": "8a9cd167",
   "metadata": {},
   "outputs": [],
   "source": [
    "# print(classification_report(y_pred=y_pred, y_true= y_test))"
   ]
  }
 ],
 "metadata": {
  "kernelspec": {
   "display_name": "Python 3 (ipykernel)",
   "language": "python",
   "name": "python3"
  },
  "language_info": {
   "codemirror_mode": {
    "name": "ipython",
    "version": 3
   },
   "file_extension": ".py",
   "mimetype": "text/x-python",
   "name": "python",
   "nbconvert_exporter": "python",
   "pygments_lexer": "ipython3",
   "version": "3.9.12"
  }
 },
 "nbformat": 4,
 "nbformat_minor": 5
}
